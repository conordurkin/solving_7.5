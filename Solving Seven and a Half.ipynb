{
 "cells": [
  {
   "cell_type": "code",
   "execution_count": 1,
   "metadata": {},
   "outputs": [],
   "source": [
    "%load_ext autotime\n",
    "%matplotlib inline\n",
    "%load_ext autoreload"
   ]
  },
  {
   "cell_type": "code",
   "execution_count": 2,
   "metadata": {},
   "outputs": [
    {
     "name": "stdout",
     "output_type": "stream",
     "text": [
      "time: 994 ms\n"
     ]
    }
   ],
   "source": [
    "import pandas as pd\n",
    "import numpy as np\n",
    "import random\n",
    "import statistics\n",
    "import matplotlib.pyplot as plt\n",
    "import seaborn as sns"
   ]
  },
  {
   "cell_type": "markdown",
   "metadata": {},
   "source": [
    "Seven and a half is a card game that's something like 2/3rds blackjack and 1/3 poker. It's known as [setto e mezzo](https://en.wikipedia.org/wiki/Sette_e_mezzo) in Italy or Siete y Media in Spain (that literally just means 7.5 in Italian/Spanish, but the point being it is popular in these other countries) and is played with a deck of 40 cards (standard deck of cards, minus the 8s, 9s, and 10s). Players receive one card face down (as does the dealer), and a player's goal is to beat the dealer by getting a hand as close to 7 1/2  as possible without busting (going over 7.5). Face cards are worth 1/2 point and all other cards are worth their face value. A player can hit until they either choose to stay or they bust, at which point the dealer can then hit until they choose to stay or bust as well. Ties go to the dealer. When I have played this game, a player doesn't need to place their bet on their hand until receiving their first card, though I understand this may not be traditional. \n",
    "\n",
    "After playing the game a few times, I've started to get curious on what ideal gameplay actually looks like. Since this isn't a game of perfect information (both the player and the dealer have one face-down card, so an element of bluffing - the poker aspect - is certainly at play), you can't necessarily solve for a true dominant strategy, but it's at least possible to map out what ***would*** be ideal gameplay if all information was known in each stage. Here's an attempt to do that (and a 'fun' opportunity to walk through a Monte Carlo simulation in Python)."
   ]
  },
  {
   "cell_type": "markdown",
   "metadata": {},
   "source": [
    "To start things off - let's see what happens if your goal is just to maximize your hand, regardless of what any other player has. We'll use a basic \"hit until you reach a score of X\" strategy, change what X is, and see what X gives you the highest expected value if we simulate 1,000,000 hands for each X:"
   ]
  },
  {
   "cell_type": "code",
   "execution_count": 3,
   "metadata": {},
   "outputs": [
    {
     "data": {
      "text/plain": [
       "0.5    2.952205\n",
       "1.0    3.855234\n",
       "1.5    4.260065\n",
       "2.0    4.445243\n",
       "2.5    4.620090\n",
       "3.0    4.710584\n",
       "3.5    4.741632\n",
       "4.0    4.741801\n",
       "4.5    4.589865\n",
       "5.0    4.466452\n",
       "5.5    4.062339\n",
       "6.0    3.765453\n",
       "6.5    3.025663\n",
       "7.0    2.469758\n",
       "7.5    1.282080\n",
       "dtype: float64"
      ]
     },
     "execution_count": 3,
     "metadata": {},
     "output_type": "execute_result"
    },
    {
     "name": "stdout",
     "output_type": "stream",
     "text": [
      "time: 4min 13s\n"
     ]
    }
   ],
   "source": [
    "random.seed(123)\n",
    "overall_scores = []\n",
    "for i in range(15):\n",
    "    threshold = (0.5 + i * 0.5)\n",
    "    final_scores = []\n",
    "    for j in range(1000000):\n",
    "        hand = []\n",
    "        deck = [2, 3, 4, 5, 6, 7, 1, 0.5, 0.5, 0.5] * 4\n",
    "        random.shuffle(deck)\n",
    "        hand.append(deck.pop())\n",
    "        score = sum(hand)\n",
    "        while score < threshold:\n",
    "            hand.append(deck.pop())\n",
    "            score = sum(hand)\n",
    "        if score > 7.5:\n",
    "            final_score = 0\n",
    "        else:\n",
    "            final_score = score\n",
    "        final_scores.append(final_score)\n",
    "    overall_scores.append([threshold, final_scores])\n",
    "    \n",
    "score_data = pd.DataFrame(dict(overall_scores))\n",
    "score_data.mean()"
   ]
  },
  {
   "cell_type": "markdown",
   "metadata": {},
   "source": [
    "Alright, so the highest expected value is \"hit until your hand is at least 3.5 / 4ish\" which seems pretty reasonable, considering it's about the halfway point (reasonably high, but not so high that you'll bust very frequently). \n",
    "\n",
    "Now let's work backwards a little. Assume you're the dealer, and you know a player has X. Your goal is to at least tie X, which means your strategy is simply to keep hitting until your score is at least X. If you bust before you hit X, you lose. If you don't, you win. What're your odds of winning? "
   ]
  },
  {
   "cell_type": "code",
   "execution_count": 4,
   "metadata": {},
   "outputs": [
    {
     "data": {
      "text/plain": [
       "0.5    1.000000\n",
       "1.0    1.000000\n",
       "1.5    0.980636\n",
       "2.0    0.971922\n",
       "2.5    0.942629\n",
       "3.0    0.925669\n",
       "3.5    0.877645\n",
       "4.0    0.847556\n",
       "4.5    0.777102\n",
       "5.0    0.732099\n",
       "5.5    0.633591\n",
       "6.0    0.569280\n",
       "6.5    0.436852\n",
       "7.0    0.345966\n",
       "7.5    0.170944\n",
       "dtype: float64"
      ]
     },
     "execution_count": 4,
     "metadata": {},
     "output_type": "execute_result"
    },
    {
     "name": "stdout",
     "output_type": "stream",
     "text": [
      "time: 4min 7s\n"
     ]
    }
   ],
   "source": [
    "random.seed(123)\n",
    "overall_scores = []\n",
    "for i in range(15):\n",
    "    threshold = (0.5 + i * 0.5)\n",
    "    final_scores = []\n",
    "    for j in range(1000000):\n",
    "        hand = []\n",
    "        deck = [2, 3, 4, 5, 6, 7, 1, 0.5, 0.5, 0.5] * 4\n",
    "        random.shuffle(deck)\n",
    "        hand.append(deck.pop())\n",
    "        score = sum(hand)\n",
    "        while score < threshold:\n",
    "            hand.append(deck.pop())\n",
    "            score = sum(hand)\n",
    "        if score > 7.5:\n",
    "            final_score = 0\n",
    "        else:\n",
    "            final_score = 1\n",
    "        final_scores.append(final_score)\n",
    "    overall_scores.append([threshold, final_scores])\n",
    "    \n",
    "dealer_wins = pd.DataFrame(dict(overall_scores))\n",
    "dealer_wins.mean()"
   ]
  },
  {
   "cell_type": "code",
   "execution_count": 5,
   "metadata": {},
   "outputs": [
    {
     "data": {
      "text/plain": [
       "Text(0.5, 1.0, '')"
      ]
     },
     "execution_count": 5,
     "metadata": {},
     "output_type": "execute_result"
    },
    {
     "data": {
      "image/png": "[encoded data removed]",
      "text/plain": [
       "<Figure size 1440x576 with 1 Axes>"
      ]
     },
     "metadata": {
      "needs_background": "light"
     },
     "output_type": "display_data"
    },
    {
     "name": "stdout",
     "output_type": "stream",
     "text": [
      "time: 309 ms\n"
     ]
    }
   ],
   "source": [
    "test = pd.DataFrame(dealer_wins.mean()).reset_index()\n",
    "test.columns = ['Threshold', 'Win Probability']\n",
    "plt.figure(figsize=(20,8))\n",
    "sns.lineplot(data = test, \n",
    "             x = 'Threshold',\n",
    "             y = 'Win Probability').set_title('')"
   ]
  },
  {
   "cell_type": "markdown",
   "metadata": {},
   "source": [
    "You'll note that the Python code to run this analysis barely changed - I only needed to adjust to show me a binary 1 / 0 (did we beat X or not), rather than the mean score from the X strategy.  \n",
    "\n",
    "Results seem pretty straightforward - the dealer's odds of winning decrease as the score he has to beat goes up - and the odds are falling a bit less than linearly as we go - but it's actually pretty interesting to me to see how favored the dealer is in this game. Based on this, the dealer is favored to win for any player score under 6.5, which I think suggests a couple things: \n",
    "\n",
    "- First, it pays to be aggressive - even if score-maximizing in the abstract happens with a cutoff of 3.5 /4 or so, you're probably going to lose as the player unless you keep hitting.\n",
    "- Second, bluffing clearly matters. "
   ]
  },
  {
   "cell_type": "markdown",
   "metadata": {},
   "source": [
    "Okay, now let's take a step back and think about this from the player's perspective. Every time you decide whether to hit, you impact the probability that you win the game in one of two ways:\n",
    "- You bust with some probability (call this y), which results in a 100% chance the dealer wins\n",
    "- Conditional upon not busting, you lower the dealer's chances of winning by some probability (call this z)\n",
    "\n",
    "For example, say you start with an Ace, so you hand is worth 1. The table above shows a dealer with perfect information has a 100% chance of winning here. If you draw a 7, you bust, so your odds don't get any worse - you still lose. If you draw a 6, your hand is now worth 7, so the dealer has a 35% chance of winning - your odds of winning have improved by 65 percentage points. \n",
    "\n",
    "As a player, your goal is to maximize the probability you have of winning the game. Phrased differently, your goal is to minimize the probability the dealer has of winning the game. As such, a player should hit only when doing so increases their chances of winning (and decreases the dealer's chances). Since we know the probability the dealer has of winning given every player score, we can figure out exactly how a hit is expected to impact your probability of winning, which tells us when we should / should not hit. \n",
    "\n",
    "Given that, here's what we'll do: \n",
    "- Take the inverse of 'dealer win probability' as 'player win probability' \n",
    "- Start at each possible score (0.5 to 7.5), and simulate 1,000,000 hands where you take a hit. \n",
    "- Compare starting win probability to average ending win probability to see where a hit improves your win probability. "
   ]
  },
  {
   "cell_type": "code",
   "execution_count": 6,
   "metadata": {},
   "outputs": [
    {
     "name": "stdout",
     "output_type": "stream",
     "text": [
      "time: 29.5 ms\n"
     ]
    }
   ],
   "source": [
    "player_win_prob = (1 - dealer_wins.mean())"
   ]
  },
  {
   "cell_type": "code",
   "execution_count": 7,
   "metadata": {},
   "outputs": [
    {
     "data": {
      "text/html": [
       "<div>\n",
       "<style scoped>\n",
       "    .dataframe tbody tr th:only-of-type {\n",
       "        vertical-align: middle;\n",
       "    }\n",
       "\n",
       "    .dataframe tbody tr th {\n",
       "        vertical-align: top;\n",
       "    }\n",
       "\n",
       "    .dataframe thead th {\n",
       "        text-align: right;\n",
       "    }\n",
       "</style>\n",
       "<table border=\"1\" class=\"dataframe\">\n",
       "  <thead>\n",
       "    <tr style=\"text-align: right;\">\n",
       "      <th></th>\n",
       "      <th>score_start</th>\n",
       "      <th>bust_prob</th>\n",
       "      <th>score_end_avg</th>\n",
       "      <th>win_prob_start</th>\n",
       "      <th>win_prob_end</th>\n",
       "      <th>score_increase</th>\n",
       "      <th>prob_change</th>\n",
       "    </tr>\n",
       "  </thead>\n",
       "  <tbody>\n",
       "    <tr>\n",
       "      <th>0</th>\n",
       "      <td>0.5</td>\n",
       "      <td>0.0000</td>\n",
       "      <td>3.43460</td>\n",
       "      <td>0.000000</td>\n",
       "      <td>0.215628</td>\n",
       "      <td>2.93460</td>\n",
       "      <td>0.215628</td>\n",
       "    </tr>\n",
       "    <tr>\n",
       "      <th>1</th>\n",
       "      <td>1.0</td>\n",
       "      <td>0.1011</td>\n",
       "      <td>3.94575</td>\n",
       "      <td>0.000000</td>\n",
       "      <td>0.164628</td>\n",
       "      <td>2.94575</td>\n",
       "      <td>0.164628</td>\n",
       "    </tr>\n",
       "    <tr>\n",
       "      <th>2</th>\n",
       "      <td>1.5</td>\n",
       "      <td>0.1030</td>\n",
       "      <td>4.45290</td>\n",
       "      <td>0.019364</td>\n",
       "      <td>0.222662</td>\n",
       "      <td>2.95290</td>\n",
       "      <td>0.203298</td>\n",
       "    </tr>\n",
       "    <tr>\n",
       "      <th>3</th>\n",
       "      <td>2.0</td>\n",
       "      <td>0.2055</td>\n",
       "      <td>4.99180</td>\n",
       "      <td>0.028078</td>\n",
       "      <td>0.176448</td>\n",
       "      <td>2.99180</td>\n",
       "      <td>0.148370</td>\n",
       "    </tr>\n",
       "    <tr>\n",
       "      <th>4</th>\n",
       "      <td>2.5</td>\n",
       "      <td>0.1959</td>\n",
       "      <td>5.43205</td>\n",
       "      <td>0.057371</td>\n",
       "      <td>0.234194</td>\n",
       "      <td>2.93205</td>\n",
       "      <td>0.176823</td>\n",
       "    </tr>\n",
       "    <tr>\n",
       "      <th>5</th>\n",
       "      <td>3.0</td>\n",
       "      <td>0.2993</td>\n",
       "      <td>5.93720</td>\n",
       "      <td>0.074331</td>\n",
       "      <td>0.185775</td>\n",
       "      <td>2.93720</td>\n",
       "      <td>0.111444</td>\n",
       "    </tr>\n",
       "    <tr>\n",
       "      <th>6</th>\n",
       "      <td>3.5</td>\n",
       "      <td>0.3006</td>\n",
       "      <td>6.47120</td>\n",
       "      <td>0.122355</td>\n",
       "      <td>0.246702</td>\n",
       "      <td>2.97120</td>\n",
       "      <td>0.124347</td>\n",
       "    </tr>\n",
       "    <tr>\n",
       "      <th>7</th>\n",
       "      <td>4.0</td>\n",
       "      <td>0.3959</td>\n",
       "      <td>6.94845</td>\n",
       "      <td>0.152444</td>\n",
       "      <td>0.205362</td>\n",
       "      <td>2.94845</td>\n",
       "      <td>0.052918</td>\n",
       "    </tr>\n",
       "    <tr>\n",
       "      <th>8</th>\n",
       "      <td>4.5</td>\n",
       "      <td>0.4024</td>\n",
       "      <td>7.45975</td>\n",
       "      <td>0.222898</td>\n",
       "      <td>0.254988</td>\n",
       "      <td>2.95975</td>\n",
       "      <td>0.032090</td>\n",
       "    </tr>\n",
       "    <tr>\n",
       "      <th>9</th>\n",
       "      <td>5.0</td>\n",
       "      <td>0.4999</td>\n",
       "      <td>7.93755</td>\n",
       "      <td>0.267901</td>\n",
       "      <td>0.218546</td>\n",
       "      <td>2.93755</td>\n",
       "      <td>-0.049355</td>\n",
       "    </tr>\n",
       "    <tr>\n",
       "      <th>10</th>\n",
       "      <td>5.5</td>\n",
       "      <td>0.5049</td>\n",
       "      <td>8.47125</td>\n",
       "      <td>0.366409</td>\n",
       "      <td>0.265583</td>\n",
       "      <td>2.97125</td>\n",
       "      <td>-0.100826</td>\n",
       "    </tr>\n",
       "    <tr>\n",
       "      <th>11</th>\n",
       "      <td>6.0</td>\n",
       "      <td>0.6031</td>\n",
       "      <td>8.95960</td>\n",
       "      <td>0.430720</td>\n",
       "      <td>0.232375</td>\n",
       "      <td>2.95960</td>\n",
       "      <td>-0.198345</td>\n",
       "    </tr>\n",
       "    <tr>\n",
       "      <th>12</th>\n",
       "      <td>6.5</td>\n",
       "      <td>0.6045</td>\n",
       "      <td>9.49780</td>\n",
       "      <td>0.563148</td>\n",
       "      <td>0.276190</td>\n",
       "      <td>2.99780</td>\n",
       "      <td>-0.286958</td>\n",
       "    </tr>\n",
       "    <tr>\n",
       "      <th>13</th>\n",
       "      <td>7.0</td>\n",
       "      <td>0.7023</td>\n",
       "      <td>9.96755</td>\n",
       "      <td>0.654034</td>\n",
       "      <td>0.246810</td>\n",
       "      <td>2.96755</td>\n",
       "      <td>-0.407224</td>\n",
       "    </tr>\n",
       "    <tr>\n",
       "      <th>14</th>\n",
       "      <td>7.5</td>\n",
       "      <td>1.0000</td>\n",
       "      <td>10.44725</td>\n",
       "      <td>0.829056</td>\n",
       "      <td>0.000000</td>\n",
       "      <td>2.94725</td>\n",
       "      <td>-0.829056</td>\n",
       "    </tr>\n",
       "  </tbody>\n",
       "</table>\n",
       "</div>"
      ],
      "text/plain": [
       "    score_start  bust_prob  score_end_avg  win_prob_start  win_prob_end  \\\n",
       "0           0.5     0.0000        3.43460        0.000000      0.215628   \n",
       "1           1.0     0.1011        3.94575        0.000000      0.164628   \n",
       "2           1.5     0.1030        4.45290        0.019364      0.222662   \n",
       "3           2.0     0.2055        4.99180        0.028078      0.176448   \n",
       "4           2.5     0.1959        5.43205        0.057371      0.234194   \n",
       "5           3.0     0.2993        5.93720        0.074331      0.185775   \n",
       "6           3.5     0.3006        6.47120        0.122355      0.246702   \n",
       "7           4.0     0.3959        6.94845        0.152444      0.205362   \n",
       "8           4.5     0.4024        7.45975        0.222898      0.254988   \n",
       "9           5.0     0.4999        7.93755        0.267901      0.218546   \n",
       "10          5.5     0.5049        8.47125        0.366409      0.265583   \n",
       "11          6.0     0.6031        8.95960        0.430720      0.232375   \n",
       "12          6.5     0.6045        9.49780        0.563148      0.276190   \n",
       "13          7.0     0.7023        9.96755        0.654034      0.246810   \n",
       "14          7.5     1.0000       10.44725        0.829056      0.000000   \n",
       "\n",
       "    score_increase  prob_change  \n",
       "0          2.93460     0.215628  \n",
       "1          2.94575     0.164628  \n",
       "2          2.95290     0.203298  \n",
       "3          2.99180     0.148370  \n",
       "4          2.93205     0.176823  \n",
       "5          2.93720     0.111444  \n",
       "6          2.97120     0.124347  \n",
       "7          2.94845     0.052918  \n",
       "8          2.95975     0.032090  \n",
       "9          2.93755    -0.049355  \n",
       "10         2.97125    -0.100826  \n",
       "11         2.95960    -0.198345  \n",
       "12         2.99780    -0.286958  \n",
       "13         2.96755    -0.407224  \n",
       "14         2.94725    -0.829056  "
      ]
     },
     "execution_count": 7,
     "metadata": {},
     "output_type": "execute_result"
    },
    {
     "name": "stdout",
     "output_type": "stream",
     "text": [
      "time: 7.4 s\n"
     ]
    }
   ],
   "source": [
    "random.seed(123)\n",
    "\n",
    "player_outcomes = []\n",
    "for i in range(15):\n",
    "    start = (0.5 + i * 0.5)\n",
    "    final_scores = []\n",
    "    start_probs = []\n",
    "    end_probs = []\n",
    "    bust_count = []\n",
    "    for j in range(10000):\n",
    "        hand = [start]\n",
    "        start_win_probability = player_win_prob[start]\n",
    "        deck = [2, 3, 4, 5, 6, 7, 1, 0.5, 0.5, 0.5] * 4\n",
    "        random.shuffle(deck)\n",
    "        hand.append(deck.pop())\n",
    "        final_score = sum(hand)\n",
    "        try: \n",
    "            end_win_probability = player_win_prob[final_score]\n",
    "        except:\n",
    "            end_win_probability = 0\n",
    "            \n",
    "        if final_score > 7.5:\n",
    "            bust = 1\n",
    "        else:\n",
    "            bust = 0\n",
    "        \n",
    "        start_probs.append(start_win_probability)\n",
    "        end_probs.append(end_win_probability)\n",
    "        final_scores.append(final_score)\n",
    "        bust_count.append(bust)\n",
    "        \n",
    "    player_outcomes.append([start, statistics.mean(bust_count), statistics.mean(final_scores), statistics.mean(start_probs), statistics.mean(end_probs)])\n",
    "    \n",
    "player_wins = pd.DataFrame((player_outcomes))\n",
    "player_wins.columns = ['score_start', 'bust_prob', 'score_end_avg', 'win_prob_start', 'win_prob_end']\n",
    "player_wins['score_increase'] = player_wins['score_end_avg'] - player_wins['score_start']\n",
    "player_wins['prob_change'] = player_wins['win_prob_end'] - player_wins['win_prob_start']\n",
    "\n",
    "player_wins"
   ]
  },
  {
   "cell_type": "markdown",
   "metadata": {},
   "source": [
    "Pretty straightforward! Looks like the player should hit if their hand is anything below 5 - above there, hitting has negative value (the odds of busting out are too great). \n",
    "\n",
    "Astute cardplayers will notice that the above is a *bit* simplistic - I'm pretending the entire deck of cards is in play when you take a hit, when in reality at least one (or two) cards have to have been played already to make the player's starting hand. That's totally fair, but: \n",
    "- I think the actual analysis there is beyond the scope of what I can put together,\n",
    "- For someone not counting cards, in practice you won't really be able to adjust your math on the fly sufficiently to use a more sophisticated version, and \n",
    "- In theory, if someone were playing with an infinite number of decks, the math above is still right, so let's go with it. \n",
    "\n",
    "Now - last step. Given the above, we know the dealer's odds of winning a hand based on where the player ends up, and we know how the player should act given those odds (hit until 5 or higher, then stay). My last question is how the player's odds of winning vary based on the card they're dealt. Intuitively, I'd expect 6s and 7s to be great cards (clearly if you get a 7 off the bat, you've got nearly a 2/3rds chance of winning, which is great), but I'm not sure whether a face card (0.5) or an Ace (1) will be a lot better than a 3 or a 4 - your starting score is lower, but your odds of busting are a lot better. Let's give it a shot:  "
   ]
  },
  {
   "cell_type": "code",
   "execution_count": 8,
   "metadata": {},
   "outputs": [
    {
     "name": "stdout",
     "output_type": "stream",
     "text": [
      "time: 16.9 s\n"
     ]
    }
   ],
   "source": [
    "random.seed(123)\n",
    "overall_outcomes = []\n",
    "\n",
    "for i in range(1000000):\n",
    "    player_hand = []\n",
    "    dealer_hand = []\n",
    "    deck = [2, 3, 4, 5, 6, 7, 1, 0.5, 0.5, 0.5] * 4\n",
    "    random.shuffle(deck)\n",
    "    player_hand.append(deck.pop())\n",
    "    player_first_card = player_hand[0]\n",
    "    dealer_hand.append(deck.pop())\n",
    "    player_score = sum(player_hand)\n",
    "    dealer_score = sum(dealer_hand)\n",
    "    while player_score < 5:\n",
    "        player_hand.append(deck.pop())\n",
    "        player_score = sum(player_hand)\n",
    "    if player_score > 7.5:\n",
    "        player_final_score = 0\n",
    "    else:\n",
    "        player_final_score = player_score\n",
    "    while dealer_score < player_final_score:\n",
    "        dealer_hand.append(deck.pop())\n",
    "        dealer_score = sum(dealer_hand)\n",
    "    if dealer_score > 7.5:\n",
    "        dealer_final_score = 0\n",
    "    else:\n",
    "        dealer_final_score = dealer_score\n",
    "    if dealer_final_score >= player_final_score:\n",
    "        outcome = 0\n",
    "    else:\n",
    "        outcome = 1\n",
    "    overall_outcomes.append([player_first_card, outcome])"
   ]
  },
  {
   "cell_type": "code",
   "execution_count": 9,
   "metadata": {},
   "outputs": [
    {
     "data": {
      "text/html": [
       "<div>\n",
       "<style scoped>\n",
       "    .dataframe tbody tr th:only-of-type {\n",
       "        vertical-align: middle;\n",
       "    }\n",
       "\n",
       "    .dataframe tbody tr th {\n",
       "        vertical-align: top;\n",
       "    }\n",
       "\n",
       "    .dataframe thead th {\n",
       "        text-align: right;\n",
       "    }\n",
       "</style>\n",
       "<table border=\"1\" class=\"dataframe\">\n",
       "  <thead>\n",
       "    <tr style=\"text-align: right;\">\n",
       "      <th></th>\n",
       "      <th>First Card</th>\n",
       "      <th>Win Probability</th>\n",
       "      <th>Count</th>\n",
       "    </tr>\n",
       "  </thead>\n",
       "  <tbody>\n",
       "    <tr>\n",
       "      <th>0</th>\n",
       "      <td>0.5</td>\n",
       "      <td>0.386347</td>\n",
       "      <td>299485</td>\n",
       "    </tr>\n",
       "    <tr>\n",
       "      <th>1</th>\n",
       "      <td>1.0</td>\n",
       "      <td>0.306151</td>\n",
       "      <td>99944</td>\n",
       "    </tr>\n",
       "    <tr>\n",
       "      <th>2</th>\n",
       "      <td>2.0</td>\n",
       "      <td>0.267725</td>\n",
       "      <td>99931</td>\n",
       "    </tr>\n",
       "    <tr>\n",
       "      <th>3</th>\n",
       "      <td>3.0</td>\n",
       "      <td>0.219691</td>\n",
       "      <td>99977</td>\n",
       "    </tr>\n",
       "    <tr>\n",
       "      <th>4</th>\n",
       "      <td>4.0</td>\n",
       "      <td>0.216987</td>\n",
       "      <td>100453</td>\n",
       "    </tr>\n",
       "    <tr>\n",
       "      <th>5</th>\n",
       "      <td>5.0</td>\n",
       "      <td>0.275738</td>\n",
       "      <td>100222</td>\n",
       "    </tr>\n",
       "    <tr>\n",
       "      <th>6</th>\n",
       "      <td>6.0</td>\n",
       "      <td>0.435418</td>\n",
       "      <td>100113</td>\n",
       "    </tr>\n",
       "    <tr>\n",
       "      <th>7</th>\n",
       "      <td>7.0</td>\n",
       "      <td>0.665212</td>\n",
       "      <td>99875</td>\n",
       "    </tr>\n",
       "  </tbody>\n",
       "</table>\n",
       "</div>"
      ],
      "text/plain": [
       "   First Card  Win Probability   Count\n",
       "0         0.5         0.386347  299485\n",
       "1         1.0         0.306151   99944\n",
       "2         2.0         0.267725   99931\n",
       "3         3.0         0.219691   99977\n",
       "4         4.0         0.216987  100453\n",
       "5         5.0         0.275738  100222\n",
       "6         6.0         0.435418  100113\n",
       "7         7.0         0.665212   99875"
      ]
     },
     "execution_count": 9,
     "metadata": {},
     "output_type": "execute_result"
    },
    {
     "name": "stdout",
     "output_type": "stream",
     "text": [
      "time: 472 ms\n"
     ]
    }
   ],
   "source": [
    "result = pd.DataFrame(overall_outcomes, columns = ['first_card', 'outcome'])\n",
    "summary = result.groupby('first_card').agg(['mean', 'count']).reset_index()\n",
    "summary.columns = ['First Card', 'Win Probability', 'Count']\n",
    "summary"
   ]
  },
  {
   "cell_type": "markdown",
   "metadata": {},
   "source": [
    "Not surprisingly, 7 was confirmed best (about a 2:1 favorite to win) - but the rest is pretty interesting. After 6, the next best starting card is actually 0.5 by a pretty wide margin - it's almost twice as good as starting with a 3 or a 4, and isn't much worse than a 6 (39% chance to win versus 44%). The player's overall odds of winning a hand here are ~35%. \n",
    "\n",
    "So, to recap: \n",
    "- In the abstract, hitting until 3.5 or 4 gets you the highest average hand\n",
    "- Since the dealer goes second, and this analysis assumes he knows what he has to get, hitting until 5 is the best strategy\n",
    "- The player is a pretty big underdog here, with ~35% chance of winning in a perfect information setting. Unless they're dealt a 7, the dealer is favored, and that doesn't change unless they've got at least 6.5 in their hand. \n",
    "- Given the above, it's obvious how important the lack of perfect information is in this game - bluffing is huge for the player. In terms of optimal betting strategy you should bet big if and only if you get a 7, unless you're trying to bluff. Conversely, if you're the dealer, you're not really afraid of a player betting big unless you're pretty sure they have a 7 - anything else and you're favored to win the hand. \n",
    "\n",
    "All in all, this was a pretty fun and illuminating exercise - and I feel a bit better about how to approach the game going forward. "
   ]
  }
 ],
 "metadata": {
  "kernelspec": {
   "display_name": "Python 3",
   "language": "python",
   "name": "python3"
  },
  "language_info": {
   "codemirror_mode": {
    "name": "ipython",
    "version": 3
   },
   "file_extension": ".py",
   "mimetype": "text/x-python",
   "name": "python",
   "nbconvert_exporter": "python",
   "pygments_lexer": "ipython3",
   "version": "3.8.3"
  }
 },
 "nbformat": 4,
 "nbformat_minor": 4
}
